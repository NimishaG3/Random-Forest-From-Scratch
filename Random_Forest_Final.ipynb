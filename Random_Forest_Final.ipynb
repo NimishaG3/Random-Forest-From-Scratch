{
  "nbformat": 4,
  "nbformat_minor": 0,
  "metadata": {
    "colab": {
      "name": "Random Forest",
      "provenance": [],
      "collapsed_sections": []
    },
    "kernelspec": {
      "name": "python3",
      "display_name": "Python 3"
    },
    "language_info": {
      "name": "python"
    }
  },
  "cells": [
    {
      "cell_type": "markdown",
      "source": [
        "# **Implementing a Random Forest from scratch and running it on spotify data to predict whether a user would like a particular song or not. Sources I referred for this code are cited at the end of this notebook! :)**"
      ],
      "metadata": {
        "id": "7ldBvdwfKfau"
      }
    },
    {
      "cell_type": "markdown",
      "source": [
        "Importing Required Libraries"
      ],
      "metadata": {
        "id": "hx2TywieIsOO"
      }
    },
    {
      "cell_type": "code",
      "execution_count": 1,
      "metadata": {
        "id": "5z7c-yj_uDOu"
      },
      "outputs": [],
      "source": [
        "import numpy as np\n",
        "import pandas as pd\n",
        "import random\n",
        "from pprint import pprint"
      ]
    },
    {
      "cell_type": "markdown",
      "source": [
        "Reading CSV data and dropping unecessary columns"
      ],
      "metadata": {
        "id": "DkbUYz9MIwZZ"
      }
    },
    {
      "cell_type": "code",
      "source": [
        "spotifyData = pd.read_csv(\"data1.csv\")\n",
        "spotifyData = spotifyData.drop(['song_title', 'artist', 'serial_num'], axis=1)\n",
        "spotifyData.head()"
      ],
      "metadata": {
        "colab": {
          "base_uri": "https://localhost:8080/",
          "height": 206
        },
        "id": "3qrHdPZPuNlE",
        "outputId": "3a9307d6-a9cc-415f-f9bf-eb95558e8fa1"
      },
      "execution_count": 4,
      "outputs": [
        {
          "output_type": "execute_result",
          "data": {
            "text/plain": [
              "   acousticness  danceability  duration_ms  energy  instrumentalness  key  \\\n",
              "0        0.0102         0.833       204600   0.434          0.021900    2   \n",
              "1        0.1990         0.743       326933   0.359          0.006110    1   \n",
              "2        0.0344         0.838       185707   0.412          0.000234    2   \n",
              "3        0.6040         0.494       199413   0.338          0.510000    5   \n",
              "4        0.1800         0.678       392893   0.561          0.512000    5   \n",
              "\n",
              "   liveness  loudness  mode  speechiness    tempo  time_signature  valence  \\\n",
              "0    0.1650    -8.795     1       0.4310  150.062             4.0    0.286   \n",
              "1    0.1370   -10.401     1       0.0794  160.083             4.0    0.588   \n",
              "2    0.1590    -7.148     1       0.2890   75.044             4.0    0.173   \n",
              "3    0.0922   -15.236     1       0.0261   86.468             4.0    0.230   \n",
              "4    0.4390   -11.648     0       0.0694  174.004             4.0    0.904   \n",
              "\n",
              "   target  \n",
              "0       1  \n",
              "1       1  \n",
              "2       1  \n",
              "3       1  \n",
              "4       1  "
            ],
            "text/html": [
              "\n",
              "  <div id=\"df-31f280e3-046e-4e44-ad72-4fe959728c8b\">\n",
              "    <div class=\"colab-df-container\">\n",
              "      <div>\n",
              "<style scoped>\n",
              "    .dataframe tbody tr th:only-of-type {\n",
              "        vertical-align: middle;\n",
              "    }\n",
              "\n",
              "    .dataframe tbody tr th {\n",
              "        vertical-align: top;\n",
              "    }\n",
              "\n",
              "    .dataframe thead th {\n",
              "        text-align: right;\n",
              "    }\n",
              "</style>\n",
              "<table border=\"1\" class=\"dataframe\">\n",
              "  <thead>\n",
              "    <tr style=\"text-align: right;\">\n",
              "      <th></th>\n",
              "      <th>acousticness</th>\n",
              "      <th>danceability</th>\n",
              "      <th>duration_ms</th>\n",
              "      <th>energy</th>\n",
              "      <th>instrumentalness</th>\n",
              "      <th>key</th>\n",
              "      <th>liveness</th>\n",
              "      <th>loudness</th>\n",
              "      <th>mode</th>\n",
              "      <th>speechiness</th>\n",
              "      <th>tempo</th>\n",
              "      <th>time_signature</th>\n",
              "      <th>valence</th>\n",
              "      <th>target</th>\n",
              "    </tr>\n",
              "  </thead>\n",
              "  <tbody>\n",
              "    <tr>\n",
              "      <th>0</th>\n",
              "      <td>0.0102</td>\n",
              "      <td>0.833</td>\n",
              "      <td>204600</td>\n",
              "      <td>0.434</td>\n",
              "      <td>0.021900</td>\n",
              "      <td>2</td>\n",
              "      <td>0.1650</td>\n",
              "      <td>-8.795</td>\n",
              "      <td>1</td>\n",
              "      <td>0.4310</td>\n",
              "      <td>150.062</td>\n",
              "      <td>4.0</td>\n",
              "      <td>0.286</td>\n",
              "      <td>1</td>\n",
              "    </tr>\n",
              "    <tr>\n",
              "      <th>1</th>\n",
              "      <td>0.1990</td>\n",
              "      <td>0.743</td>\n",
              "      <td>326933</td>\n",
              "      <td>0.359</td>\n",
              "      <td>0.006110</td>\n",
              "      <td>1</td>\n",
              "      <td>0.1370</td>\n",
              "      <td>-10.401</td>\n",
              "      <td>1</td>\n",
              "      <td>0.0794</td>\n",
              "      <td>160.083</td>\n",
              "      <td>4.0</td>\n",
              "      <td>0.588</td>\n",
              "      <td>1</td>\n",
              "    </tr>\n",
              "    <tr>\n",
              "      <th>2</th>\n",
              "      <td>0.0344</td>\n",
              "      <td>0.838</td>\n",
              "      <td>185707</td>\n",
              "      <td>0.412</td>\n",
              "      <td>0.000234</td>\n",
              "      <td>2</td>\n",
              "      <td>0.1590</td>\n",
              "      <td>-7.148</td>\n",
              "      <td>1</td>\n",
              "      <td>0.2890</td>\n",
              "      <td>75.044</td>\n",
              "      <td>4.0</td>\n",
              "      <td>0.173</td>\n",
              "      <td>1</td>\n",
              "    </tr>\n",
              "    <tr>\n",
              "      <th>3</th>\n",
              "      <td>0.6040</td>\n",
              "      <td>0.494</td>\n",
              "      <td>199413</td>\n",
              "      <td>0.338</td>\n",
              "      <td>0.510000</td>\n",
              "      <td>5</td>\n",
              "      <td>0.0922</td>\n",
              "      <td>-15.236</td>\n",
              "      <td>1</td>\n",
              "      <td>0.0261</td>\n",
              "      <td>86.468</td>\n",
              "      <td>4.0</td>\n",
              "      <td>0.230</td>\n",
              "      <td>1</td>\n",
              "    </tr>\n",
              "    <tr>\n",
              "      <th>4</th>\n",
              "      <td>0.1800</td>\n",
              "      <td>0.678</td>\n",
              "      <td>392893</td>\n",
              "      <td>0.561</td>\n",
              "      <td>0.512000</td>\n",
              "      <td>5</td>\n",
              "      <td>0.4390</td>\n",
              "      <td>-11.648</td>\n",
              "      <td>0</td>\n",
              "      <td>0.0694</td>\n",
              "      <td>174.004</td>\n",
              "      <td>4.0</td>\n",
              "      <td>0.904</td>\n",
              "      <td>1</td>\n",
              "    </tr>\n",
              "  </tbody>\n",
              "</table>\n",
              "</div>\n",
              "      <button class=\"colab-df-convert\" onclick=\"convertToInteractive('df-31f280e3-046e-4e44-ad72-4fe959728c8b')\"\n",
              "              title=\"Convert this dataframe to an interactive table.\"\n",
              "              style=\"display:none;\">\n",
              "        \n",
              "  <svg xmlns=\"http://www.w3.org/2000/svg\" height=\"24px\"viewBox=\"0 0 24 24\"\n",
              "       width=\"24px\">\n",
              "    <path d=\"M0 0h24v24H0V0z\" fill=\"none\"/>\n",
              "    <path d=\"M18.56 5.44l.94 2.06.94-2.06 2.06-.94-2.06-.94-.94-2.06-.94 2.06-2.06.94zm-11 1L8.5 8.5l.94-2.06 2.06-.94-2.06-.94L8.5 2.5l-.94 2.06-2.06.94zm10 10l.94 2.06.94-2.06 2.06-.94-2.06-.94-.94-2.06-.94 2.06-2.06.94z\"/><path d=\"M17.41 7.96l-1.37-1.37c-.4-.4-.92-.59-1.43-.59-.52 0-1.04.2-1.43.59L10.3 9.45l-7.72 7.72c-.78.78-.78 2.05 0 2.83L4 21.41c.39.39.9.59 1.41.59.51 0 1.02-.2 1.41-.59l7.78-7.78 2.81-2.81c.8-.78.8-2.07 0-2.86zM5.41 20L4 18.59l7.72-7.72 1.47 1.35L5.41 20z\"/>\n",
              "  </svg>\n",
              "      </button>\n",
              "      \n",
              "  <style>\n",
              "    .colab-df-container {\n",
              "      display:flex;\n",
              "      flex-wrap:wrap;\n",
              "      gap: 12px;\n",
              "    }\n",
              "\n",
              "    .colab-df-convert {\n",
              "      background-color: #E8F0FE;\n",
              "      border: none;\n",
              "      border-radius: 50%;\n",
              "      cursor: pointer;\n",
              "      display: none;\n",
              "      fill: #1967D2;\n",
              "      height: 32px;\n",
              "      padding: 0 0 0 0;\n",
              "      width: 32px;\n",
              "    }\n",
              "\n",
              "    .colab-df-convert:hover {\n",
              "      background-color: #E2EBFA;\n",
              "      box-shadow: 0px 1px 2px rgba(60, 64, 67, 0.3), 0px 1px 3px 1px rgba(60, 64, 67, 0.15);\n",
              "      fill: #174EA6;\n",
              "    }\n",
              "\n",
              "    [theme=dark] .colab-df-convert {\n",
              "      background-color: #3B4455;\n",
              "      fill: #D2E3FC;\n",
              "    }\n",
              "\n",
              "    [theme=dark] .colab-df-convert:hover {\n",
              "      background-color: #434B5C;\n",
              "      box-shadow: 0px 1px 3px 1px rgba(0, 0, 0, 0.15);\n",
              "      filter: drop-shadow(0px 1px 2px rgba(0, 0, 0, 0.3));\n",
              "      fill: #FFFFFF;\n",
              "    }\n",
              "  </style>\n",
              "\n",
              "      <script>\n",
              "        const buttonEl =\n",
              "          document.querySelector('#df-31f280e3-046e-4e44-ad72-4fe959728c8b button.colab-df-convert');\n",
              "        buttonEl.style.display =\n",
              "          google.colab.kernel.accessAllowed ? 'block' : 'none';\n",
              "\n",
              "        async function convertToInteractive(key) {\n",
              "          const element = document.querySelector('#df-31f280e3-046e-4e44-ad72-4fe959728c8b');\n",
              "          const dataTable =\n",
              "            await google.colab.kernel.invokeFunction('convertToInteractive',\n",
              "                                                     [key], {});\n",
              "          if (!dataTable) return;\n",
              "\n",
              "          const docLinkHtml = 'Like what you see? Visit the ' +\n",
              "            '<a target=\"_blank\" href=https://colab.research.google.com/notebooks/data_table.ipynb>data table notebook</a>'\n",
              "            + ' to learn more about interactive tables.';\n",
              "          element.innerHTML = '';\n",
              "          dataTable['output_type'] = 'display_data';\n",
              "          await google.colab.output.renderOutput(dataTable, element);\n",
              "          const docLink = document.createElement('div');\n",
              "          docLink.innerHTML = docLinkHtml;\n",
              "          element.appendChild(docLink);\n",
              "        }\n",
              "      </script>\n",
              "    </div>\n",
              "  </div>\n",
              "  "
            ]
          },
          "metadata": {},
          "execution_count": 4
        }
      ]
    },
    {
      "cell_type": "code",
      "source": [
        "from google.colab import drive\n",
        "drive.mount('/content/drive')"
      ],
      "metadata": {
        "id": "HHp_K_9reTdq"
      },
      "execution_count": null,
      "outputs": []
    },
    {
      "cell_type": "markdown",
      "source": [
        "Function to custom split training and testing data"
      ],
      "metadata": {
        "id": "l_AkByHBI2rf"
      }
    },
    {
      "cell_type": "code",
      "source": [
        "def custom_train_test(spotifyData, split_size) :\n",
        "\t#Get random indices from data\n",
        "\tindex_test_data = random.sample(population=spotifyData.index.tolist(), k=split_size)\n",
        "\t#Make test_data from these random indices\n",
        "\ttest_data = spotifyData.loc[index_test_data]\n",
        "\n",
        "\t#Remaining data after dropping these indices = training data\n",
        "\ttrain_data = spotifyData.drop(index_test_data)\n",
        "\n",
        "\treturn test_data,train_data"
      ],
      "metadata": {
        "id": "AfSN9ZSwugJp"
      },
      "execution_count": 5,
      "outputs": []
    },
    {
      "cell_type": "markdown",
      "source": [
        "Creating training and testing data"
      ],
      "metadata": {
        "id": "3IffNtWfI6Ft"
      }
    },
    {
      "cell_type": "code",
      "source": [
        "random.seed(0)\n",
        "test_data, train_data = custom_train_test(spotifyData,300)"
      ],
      "metadata": {
        "id": "LXKQquR5vBTt"
      },
      "execution_count": 6,
      "outputs": []
    },
    {
      "cell_type": "markdown",
      "source": [
        "Base function - Checks if we have unique classes or not. If there is just one unique class, we have reached a classification"
      ],
      "metadata": {
        "id": "0UmqGxlcI89U"
      }
    },
    {
      "cell_type": "code",
      "source": [
        "def are_distinct_classes_present(arrData):\n",
        "\tdistinct_values = np.unique(arrData[:,-1])\n",
        "\tif(distinct_values.size == 1):\n",
        "\t\treturn 1\n",
        "\telse:\n",
        "\t\treturn 0"
      ],
      "metadata": {
        "id": "xa7khiQMvNBA"
      },
      "execution_count": 7,
      "outputs": []
    },
    {
      "cell_type": "markdown",
      "source": [
        "Function to check which classification is occurring maximum, and hence needs to be returned"
      ],
      "metadata": {
        "id": "T5hL1HJvJHSx"
      }
    },
    {
      "cell_type": "code",
      "source": [
        "def max_occurring_class(arrData):\n",
        "  values, counts = np.unique(arrData[:,-1],return_counts=True)\n",
        "  max_occurring_index = counts.argmax()\n",
        "  max_occurring_class_value = values[max_occurring_index]\n",
        "  return max_occurring_class_value"
      ],
      "metadata": {
        "id": "Zd7uvsTovWRC"
      },
      "execution_count": 8,
      "outputs": []
    },
    {
      "cell_type": "markdown",
      "source": [
        "Function to find points to split decision tree"
      ],
      "metadata": {
        "id": "6jJVJYH8JMFj"
      }
    },
    {
      "cell_type": "code",
      "source": [
        "def find_split_points(arrData,subspace):\n",
        "  rows,columns = arrData.shape\n",
        "  split_points = {}\n",
        "\n",
        "  all_columns = list(range(columns-1))\n",
        "\n",
        "  if((subspace != None) and (subspace <= len(all_columns))):\n",
        "    all_columns = random.sample(population=all_columns, k=subspace)\n",
        "  \n",
        "  for col in all_columns :\n",
        "    data_points = arrData[:, col]\n",
        "    distinct_values = np.unique(data_points)\n",
        "    split_points[col] = distinct_values\n",
        "        \n",
        "  return split_points"
      ],
      "metadata": {
        "id": "lBuTIWtt0FKS"
      },
      "execution_count": 9,
      "outputs": []
    },
    {
      "cell_type": "markdown",
      "source": [
        "Function to split a dataset into two based on value passed"
      ],
      "metadata": {
        "id": "f0Mx1V12JQrk"
      }
    },
    {
      "cell_type": "code",
      "source": [
        "def split_dataset(arrData, col, value):\n",
        "  split_values = arrData[:, col]\n",
        "\n",
        "  if(feature_list[col] == \"cont\"):\n",
        "    data1 = arrData[split_values <= value]\n",
        "    data2 = arrData[split_values > value]\n",
        "  else:\n",
        "    data1 = arrData[split_values == value]\n",
        "    data2 = arrData[split_values != value]\n",
        "\n",
        "  return data1, data2"
      ],
      "metadata": {
        "id": "40s5r6j21T8W"
      },
      "execution_count": 10,
      "outputs": []
    },
    {
      "cell_type": "markdown",
      "source": [
        "Get entropy of datasets"
      ],
      "metadata": {
        "id": "g1-eruAIJU-E"
      }
    },
    {
      "cell_type": "code",
      "source": [
        "def entropy_single_dataset(arrData):\n",
        "\tvalues, unique_counts = np.unique(arrData[:,-1],return_counts=True)\n",
        "\tprobArr = unique_counts / unique_counts.sum()\n",
        "\t\n",
        "\tentropy1 = sum(probArr * -np.log2(probArr))\n",
        "\t\n",
        "\treturn entropy1\n",
        "\n",
        "def entropy_multiple_datasets(data1, data2):\n",
        "\tprob_data1 = len(data1) / (len(data1) + len(data2))\n",
        "\tprob_data2 = len(data2) / (len(data1) + len(data2))\n",
        "\t\n",
        "\ttotal_entropy = (prob_data1 * entropy_single_dataset(data1) + prob_data2 * entropy_single_dataset(data2))\n",
        "\n",
        "\treturn total_entropy"
      ],
      "metadata": {
        "id": "WVClaW1P390M"
      },
      "execution_count": 11,
      "outputs": []
    },
    {
      "cell_type": "markdown",
      "source": [
        "Finalize point to split decision tree based on entropy of available options"
      ],
      "metadata": {
        "id": "BSrhM1txJbDZ"
      }
    },
    {
      "cell_type": "code",
      "source": [
        "def final_split_point(arrData, split_points):\n",
        "\tbest_entropy = 9999\n",
        "\n",
        "\tfor col in split_points:\n",
        "\t\tfor value in split_points[col]:\n",
        "\t\t\tdata1 , data2 = split_dataset(arrData, col=col, value=value)\n",
        "\t\t\tcurr_entropy = entropy_multiple_datasets(data1,data2)\n",
        "\n",
        "\t\t\tif(curr_entropy <= best_entropy):\n",
        "\t\t\t\tbest_entropy = curr_entropy\n",
        "\t\t\t\tbest_split_col = col\n",
        "\t\t\t\tbest_split_value = value\n",
        "\n",
        "\treturn best_split_col , best_split_value"
      ],
      "metadata": {
        "id": "XKF4MJCl4d7a"
      },
      "execution_count": 12,
      "outputs": []
    },
    {
      "cell_type": "markdown",
      "source": [
        "Make the decision trees with minimum number of elements passed and maximum depth"
      ],
      "metadata": {
        "id": "P5sItkhrJimM"
      }
    },
    {
      "cell_type": "code",
      "source": [
        "def make_decision_trees(data, num_calls=0,minimum=2, maximum=20, subspace=None):\n",
        "\n",
        "\tif num_calls == 0 :\n",
        "\t\tglobal headers, feature_list\n",
        "\t\tfeature_list = differentiate_features(data)\n",
        "\t\theaders = data.columns\n",
        "\t\tarrData = data.to_numpy()\n",
        "\telse:\n",
        "\t\tarrData = data\n",
        "\n",
        "\n",
        "\tif((are_distinct_classes_present(arrData) == 1) or (len(data) < minimum) or (num_calls == maximum)) :\n",
        "\t\treturn max_occurring_class(arrData)\n",
        "\n",
        "\telse:\n",
        "\t\tnum_calls += 1\n",
        "\n",
        "\t\tsplit_points = find_split_points(arrData,subspace)\n",
        "\t\tbest_split_col , best_split_value = final_split_point(arrData,split_points)\n",
        "\t\tdata1 , data2 = split_dataset(arrData, best_split_col, best_split_value)\n",
        "\t\n",
        "\t\tif ((len(data1) == 0) or (len(data2) == 0)):\n",
        "\t\t\treturn max_occurring_class(arrData)\n",
        "\n",
        "\t\tname = headers[best_split_col]\n",
        "\t\tif(feature_list[best_split_col] == \"cont\"):\n",
        "\t\t\tsplit_title = \"{} <= {}\".format(name, best_split_value)\n",
        "\t\telse:\n",
        "\t\t\tsplit_title = \"{} = {}\".format(name, best_split_value)\n",
        "\n",
        "\t\tsub_tree = {split_title: []}\n",
        "\n",
        "\t\tyes = make_decision_trees(data1, num_calls, minimum, maximum,subspace)\n",
        "\t\tno = make_decision_trees(data2, num_calls, minimum, maximum,subspace)\n",
        "\n",
        "\t\tif yes == no:\n",
        "\t\t\tsub_tree = yes\n",
        "\t\telse:\n",
        "\t\t\tsub_tree[split_title].append(yes)\n",
        "\t\t\tsub_tree[split_title].append(no)\n",
        "\n",
        "\n",
        "\t\treturn sub_tree"
      ],
      "metadata": {
        "id": "V690fKhg55ax"
      },
      "execution_count": 13,
      "outputs": []
    },
    {
      "cell_type": "markdown",
      "source": [
        "Testing tree , uncomment print statement to test it out! :D"
      ],
      "metadata": {
        "id": "G__gtSg-JoND"
      }
    },
    {
      "cell_type": "code",
      "source": [
        "tree = make_decision_trees(train_data, maximum=10)\n",
        "#pprint(tree)"
      ],
      "metadata": {
        "id": "NtCranJQ8Xaz"
      },
      "execution_count": 22,
      "outputs": []
    },
    {
      "cell_type": "markdown",
      "source": [
        "Function to classify one particular test"
      ],
      "metadata": {
        "id": "UHi4imFyJzkq"
      }
    },
    {
      "cell_type": "code",
      "source": [
        "def test_one(test1,tree):\n",
        "  split_title = list(tree.keys())[0]\n",
        "  feature, operator, value = split_title.split()\n",
        "\n",
        "  if (operator == \"<=\"):\n",
        "    if test1[feature] <= float(value):\n",
        "      classification = tree[split_title][0] #Yes Answer\n",
        "    else:\n",
        "      classification = tree[split_title][1]\n",
        "  else:\n",
        "    if str(test1[feature]) == value:\n",
        "      classification = tree[split_title][0] #Yes Answer\n",
        "    else:\n",
        "      classification = tree[split_title][1]    \n",
        "\n",
        "  if not (type(classification) is dict):\n",
        "    return classification\n",
        "\n",
        "  else:\n",
        "    return test_one(test1, classification)\n"
      ],
      "metadata": {
        "id": "hamIQ_EK97Lm"
      },
      "execution_count": 16,
      "outputs": []
    },
    {
      "cell_type": "markdown",
      "source": [
        "Calculate the accuracy of our predictions based on the actual values in the dataset"
      ],
      "metadata": {
        "id": "q48gOxEdJ6dU"
      }
    },
    {
      "cell_type": "code",
      "source": [
        "def accuracy(predicted_targets,targets):\n",
        "    correctness = predicted_targets == targets\n",
        "    calculated_accuracy = correctness.mean()\n",
        "    return calculated_accuracy\n"
      ],
      "metadata": {
        "id": "bsc2lk44ZAWp"
      },
      "execution_count": 17,
      "outputs": []
    },
    {
      "cell_type": "markdown",
      "source": [
        "Run the test_one function for all options"
      ],
      "metadata": {
        "id": "Qkq3q1SqJ-og"
      }
    },
    {
      "cell_type": "code",
      "source": [
        "def test_all(data, tree):\n",
        "    result = data.apply(test_one, args=(tree,), axis=1)\n",
        "    return result"
      ],
      "metadata": {
        "id": "SZg4bPvYMipN"
      },
      "execution_count": 18,
      "outputs": []
    },
    {
      "cell_type": "markdown",
      "source": [
        "Split feature set between categorical and continuous to decide how they will be compared to each other while building the trees"
      ],
      "metadata": {
        "id": "5UUqzVlQKCtc"
      }
    },
    {
      "cell_type": "code",
      "source": [
        "def differentiate_features(data):\n",
        "  feature_list = []\n",
        "  for col in data.columns:\n",
        "    if(len(data[col].unique()) <= 20):\n",
        "      feature_list.append(\"cat\")\n",
        "    else:\n",
        "      feature_list.append(\"cont\")\n",
        "\n",
        "  return feature_list\n"
      ],
      "metadata": {
        "id": "WFZaatMPalCL"
      },
      "execution_count": 19,
      "outputs": []
    },
    {
      "cell_type": "markdown",
      "source": [
        "Bootstrap our data with replacement"
      ],
      "metadata": {
        "id": "ayeK49CNKNTD"
      }
    },
    {
      "cell_type": "code",
      "source": [
        "def lets_bootstrap(data,n):\n",
        "  random_indices = np.random.randint(low=0, high=len(data), size=n)\n",
        "  new_df = data.iloc[random_indices]\n",
        "  return new_df"
      ],
      "metadata": {
        "id": "EbC8LLOARD66"
      },
      "execution_count": 20,
      "outputs": []
    },
    {
      "cell_type": "markdown",
      "source": [
        "Actual RF function and predictions"
      ],
      "metadata": {
        "id": "AoxCeJZuKQi3"
      }
    },
    {
      "cell_type": "code",
      "source": [
        "def rf_final(train_data, num_trees, num_bootstrap, num_features, maximum_d):\n",
        "    forest = []\n",
        "    for i in range(num_trees):\n",
        "        bootstrap_data = lets_bootstrap(train_data, num_bootstrap)\n",
        "        tree = make_decision_trees(bootstrap_data, maximum=maximum_d, subspace=num_features)\n",
        "        forest.append(tree)\n",
        "    \n",
        "    return forest\n",
        "\n",
        "def random_forest_predictions(test_data, forest):\n",
        "    predictions_data = {}\n",
        "    for i in range(len(forest)):\n",
        "        column = \"tree_{}\".format(i)\n",
        "        predictions = test_all(test_data, tree=forest[i])\n",
        "        predictions_data[column] = predictions\n",
        "\n",
        "    predictions_data = pd.DataFrame(predictions_data)\n",
        "    random_forest_predictions = predictions_data.mode(axis=1)[0]\n",
        "    \n",
        "    return random_forest_predictions"
      ],
      "metadata": {
        "id": "Hu6azuHQc1kc"
      },
      "execution_count": 21,
      "outputs": []
    },
    {
      "cell_type": "markdown",
      "source": [
        "Calling the forest and prediction functions. Uncomment the print statement to print our forest being formed"
      ],
      "metadata": {
        "id": "IngTxcpbKV-A"
      }
    },
    {
      "cell_type": "code",
      "source": [
        "forest = rf_final(train_data, num_trees=50, num_bootstrap=800, num_features=8, maximum_d=50)\n",
        "predictions = random_forest_predictions(test_data, forest)\n",
        "calculated_accuracy = accuracy(predictions, test_data.target)\n",
        "#pprint(forest, width=20)\n",
        "print(\"Accuracy = {}\".format(calculated_accuracy))\n"
      ],
      "metadata": {
        "colab": {
          "base_uri": "https://localhost:8080/"
        },
        "id": "HtNhsdLqd1JW",
        "outputId": "9a59bae3-3c43-4de1-b8b9-397a8930ba0d"
      },
      "execution_count": 24,
      "outputs": [
        {
          "output_type": "stream",
          "name": "stdout",
          "text": [
            "Accuracy = 0.77\n"
          ]
        }
      ]
    },
    {
      "cell_type": "markdown",
      "source": [
        "Sources referred -\n",
        "\n",
        "[1] https://www.bogotobogo.com/python/scikit-learn/scikt_machine_learning_Decision_Tree_Learning_Informatioin_Gain_IG_Impurity_Entropy_Gini_Classification_Error.php               \n",
        "[2] https://python-course.eu/machine-learning/decision-trees-in-python.php   \n",
        "[3] https://www.sebastian-mantey.com       \n",
        "[4] https://scikit-learn.org/stable/modules/generated/sklearn.ensemble.RandomForestClassifier.html  \n",
        "[5] https://towardsdatascience.com/master-machine-learning-random-forest-from-scratch-with-python-3efdd51b6d7a              \n",
        "[6] https://towardsdatascience.com/random-forest-explained-7eae084f3ebe\n"
      ],
      "metadata": {
        "id": "xfKFVSmOK2hZ"
      }
    }
  ]
}